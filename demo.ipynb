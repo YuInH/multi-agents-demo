{
 "cells": [
  {
   "cell_type": "code",
   "execution_count": 1,
   "id": "39e5adfd",
   "metadata": {},
   "outputs": [
    {
     "name": "stdout",
     "output_type": "stream",
     "text": [
      "Requirement already satisfied: google-adk in c:\\users\\admins\\appdata\\local\\programs\\python\\python313\\lib\\site-packages (1.16.0)\n",
      "Requirement already satisfied: PyYAML<7.0.0,>=6.0.2 in c:\\users\\admins\\appdata\\local\\programs\\python\\python313\\lib\\site-packages (from google-adk) (6.0.3)\n",
      "Requirement already satisfied: absolufy-imports<1.0.0,>=0.3.1 in c:\\users\\admins\\appdata\\local\\programs\\python\\python313\\lib\\site-packages (from google-adk) (0.3.1)\n",
      "Requirement already satisfied: anyio<5.0.0,>=4.9.0 in c:\\users\\admins\\appdata\\local\\programs\\python\\python313\\lib\\site-packages (from google-adk) (4.11.0)\n",
      "Requirement already satisfied: authlib<2.0.0,>=1.5.1 in c:\\users\\admins\\appdata\\local\\programs\\python\\python313\\lib\\site-packages (from google-adk) (1.6.5)\n",
      "Requirement already satisfied: click<9.0.0,>=8.1.8 in c:\\users\\admins\\appdata\\local\\programs\\python\\python313\\lib\\site-packages (from google-adk) (8.3.0)\n",
      "Requirement already satisfied: fastapi<1.0.0,>=0.115.0 in c:\\users\\admins\\appdata\\local\\programs\\python\\python313\\lib\\site-packages (from google-adk) (0.119.1)\n",
      "Requirement already satisfied: google-api-python-client<3.0.0,>=2.157.0 in c:\\users\\admins\\appdata\\local\\programs\\python\\python313\\lib\\site-packages (from google-adk) (2.185.0)\n",
      "Requirement already satisfied: google-cloud-aiplatform<2.0.0,>=1.112.0 in c:\\users\\admins\\appdata\\local\\programs\\python\\python313\\lib\\site-packages (from google-cloud-aiplatform[agent-engines]<2.0.0,>=1.112.0->google-adk) (1.121.0)\n",
      "Requirement already satisfied: google-cloud-bigtable>=2.32.0 in c:\\users\\admins\\appdata\\local\\programs\\python\\python313\\lib\\site-packages (from google-adk) (2.33.0)\n",
      "Requirement already satisfied: google-cloud-discoveryengine<0.14.0,>=0.13.12 in c:\\users\\admins\\appdata\\local\\programs\\python\\python313\\lib\\site-packages (from google-adk) (0.13.12)\n",
      "Requirement already satisfied: google-cloud-secret-manager<3.0.0,>=2.22.0 in c:\\users\\admins\\appdata\\local\\programs\\python\\python313\\lib\\site-packages (from google-adk) (2.25.0)\n",
      "Requirement already satisfied: google-cloud-spanner<4.0.0,>=3.56.0 in c:\\users\\admins\\appdata\\local\\programs\\python\\python313\\lib\\site-packages (from google-adk) (3.58.0)\n",
      "Requirement already satisfied: google-cloud-speech<3.0.0,>=2.30.0 in c:\\users\\admins\\appdata\\local\\programs\\python\\python313\\lib\\site-packages (from google-adk) (2.34.0)\n",
      "Requirement already satisfied: google-cloud-storage<3.0.0,>=2.18.0 in c:\\users\\admins\\appdata\\local\\programs\\python\\python313\\lib\\site-packages (from google-adk) (2.19.0)\n",
      "Requirement already satisfied: google-genai<2.0.0,>=1.41.0 in c:\\users\\admins\\appdata\\local\\programs\\python\\python313\\lib\\site-packages (from google-adk) (1.45.0)\n",
      "Requirement already satisfied: graphviz<1.0.0,>=0.20.2 in c:\\users\\admins\\appdata\\local\\programs\\python\\python313\\lib\\site-packages (from google-adk) (0.21)\n",
      "Requirement already satisfied: mcp<2.0.0,>=1.8.0 in c:\\users\\admins\\appdata\\local\\programs\\python\\python313\\lib\\site-packages (from google-adk) (1.18.0)\n",
      "Requirement already satisfied: opentelemetry-api<=1.37.0,>=1.37.0 in c:\\users\\admins\\appdata\\local\\programs\\python\\python313\\lib\\site-packages (from google-adk) (1.37.0)\n",
      "Requirement already satisfied: opentelemetry-exporter-gcp-logging<2.0.0,>=1.9.0a0 in c:\\users\\admins\\appdata\\local\\programs\\python\\python313\\lib\\site-packages (from google-adk) (1.10.0a0)\n",
      "Requirement already satisfied: opentelemetry-exporter-gcp-monitoring<2.0.0,>=1.9.0a0 in c:\\users\\admins\\appdata\\local\\programs\\python\\python313\\lib\\site-packages (from google-adk) (1.10.0a0)\n",
      "Requirement already satisfied: opentelemetry-exporter-gcp-trace<2.0.0,>=1.9.0 in c:\\users\\admins\\appdata\\local\\programs\\python\\python313\\lib\\site-packages (from google-adk) (1.10.0)\n",
      "Requirement already satisfied: opentelemetry-exporter-otlp-proto-http>=1.36.0 in c:\\users\\admins\\appdata\\local\\programs\\python\\python313\\lib\\site-packages (from google-adk) (1.37.0)\n",
      "Requirement already satisfied: opentelemetry-resourcedetector-gcp<2.0.0,>=1.9.0a0 in c:\\users\\admins\\appdata\\local\\programs\\python\\python313\\lib\\site-packages (from google-adk) (1.10.0a0)\n",
      "Requirement already satisfied: opentelemetry-sdk<=1.37.0,>=1.37.0 in c:\\users\\admins\\appdata\\local\\programs\\python\\python313\\lib\\site-packages (from google-adk) (1.37.0)\n",
      "Requirement already satisfied: pydantic<3.0.0,>=2.0 in c:\\users\\admins\\appdata\\local\\programs\\python\\python313\\lib\\site-packages (from google-adk) (2.12.3)\n",
      "Requirement already satisfied: python-dateutil<3.0.0,>=2.9.0.post0 in c:\\users\\admins\\appdata\\roaming\\python\\python313\\site-packages (from google-adk) (2.9.0.post0)\n",
      "Requirement already satisfied: python-dotenv<2.0.0,>=1.0.0 in c:\\users\\admins\\appdata\\local\\programs\\python\\python313\\lib\\site-packages (from google-adk) (1.1.1)\n",
      "Requirement already satisfied: requests<3.0.0,>=2.32.4 in c:\\users\\admins\\appdata\\local\\programs\\python\\python313\\lib\\site-packages (from google-adk) (2.32.5)\n",
      "Requirement already satisfied: sqlalchemy-spanner>=1.14.0 in c:\\users\\admins\\appdata\\local\\programs\\python\\python313\\lib\\site-packages (from google-adk) (1.17.0)\n",
      "Requirement already satisfied: sqlalchemy<3.0.0,>=2.0 in c:\\users\\admins\\appdata\\local\\programs\\python\\python313\\lib\\site-packages (from google-adk) (2.0.44)\n",
      "Requirement already satisfied: starlette<1.0.0,>=0.46.2 in c:\\users\\admins\\appdata\\local\\programs\\python\\python313\\lib\\site-packages (from google-adk) (0.48.0)\n",
      "Requirement already satisfied: tenacity<9.0.0,>=8.0.0 in c:\\users\\admins\\appdata\\local\\programs\\python\\python313\\lib\\site-packages (from google-adk) (8.5.0)\n",
      "Requirement already satisfied: typing-extensions<5,>=4.5 in c:\\users\\admins\\appdata\\local\\programs\\python\\python313\\lib\\site-packages (from google-adk) (4.15.0)\n",
      "Requirement already satisfied: tzlocal<6.0,>=5.3 in c:\\users\\admins\\appdata\\local\\programs\\python\\python313\\lib\\site-packages (from google-adk) (5.3.1)\n",
      "Requirement already satisfied: uvicorn<1.0.0,>=0.34.0 in c:\\users\\admins\\appdata\\local\\programs\\python\\python313\\lib\\site-packages (from google-adk) (0.38.0)\n",
      "Requirement already satisfied: watchdog<7.0.0,>=6.0.0 in c:\\users\\admins\\appdata\\local\\programs\\python\\python313\\lib\\site-packages (from google-adk) (6.0.0)\n",
      "Requirement already satisfied: websockets<16.0.0,>=15.0.1 in c:\\users\\admins\\appdata\\local\\programs\\python\\python313\\lib\\site-packages (from google-adk) (15.0.1)\n",
      "Requirement already satisfied: idna>=2.8 in c:\\users\\admins\\appdata\\local\\programs\\python\\python313\\lib\\site-packages (from anyio<5.0.0,>=4.9.0->google-adk) (3.11)\n",
      "Requirement already satisfied: sniffio>=1.1 in c:\\users\\admins\\appdata\\local\\programs\\python\\python313\\lib\\site-packages (from anyio<5.0.0,>=4.9.0->google-adk) (1.3.1)\n",
      "Requirement already satisfied: cryptography in c:\\users\\admins\\appdata\\local\\programs\\python\\python313\\lib\\site-packages (from authlib<2.0.0,>=1.5.1->google-adk) (46.0.3)\n",
      "Requirement already satisfied: colorama in c:\\users\\admins\\appdata\\roaming\\python\\python313\\site-packages (from click<9.0.0,>=8.1.8->google-adk) (0.4.6)\n",
      "Requirement already satisfied: httplib2<1.0.0,>=0.19.0 in c:\\users\\admins\\appdata\\local\\programs\\python\\python313\\lib\\site-packages (from google-api-python-client<3.0.0,>=2.157.0->google-adk) (0.31.0)\n",
      "Requirement already satisfied: google-auth!=2.24.0,!=2.25.0,<3.0.0,>=1.32.0 in c:\\users\\admins\\appdata\\local\\programs\\python\\python313\\lib\\site-packages (from google-api-python-client<3.0.0,>=2.157.0->google-adk) (2.41.1)\n",
      "Requirement already satisfied: google-auth-httplib2<1.0.0,>=0.2.0 in c:\\users\\admins\\appdata\\local\\programs\\python\\python313\\lib\\site-packages (from google-api-python-client<3.0.0,>=2.157.0->google-adk) (0.2.0)\n",
      "Requirement already satisfied: google-api-core!=2.0.*,!=2.1.*,!=2.2.*,!=2.3.0,<3.0.0,>=1.31.5 in c:\\users\\admins\\appdata\\local\\programs\\python\\python313\\lib\\site-packages (from google-api-python-client<3.0.0,>=2.157.0->google-adk) (2.26.0)\n",
      "Requirement already satisfied: uritemplate<5,>=3.0.1 in c:\\users\\admins\\appdata\\local\\programs\\python\\python313\\lib\\site-packages (from google-api-python-client<3.0.0,>=2.157.0->google-adk) (4.2.0)\n",
      "Requirement already satisfied: googleapis-common-protos<2.0.0,>=1.56.2 in c:\\users\\admins\\appdata\\local\\programs\\python\\python313\\lib\\site-packages (from google-api-core!=2.0.*,!=2.1.*,!=2.2.*,!=2.3.0,<3.0.0,>=1.31.5->google-api-python-client<3.0.0,>=2.157.0->google-adk) (1.71.0)\n",
      "Requirement already satisfied: protobuf!=3.20.0,!=3.20.1,!=4.21.0,!=4.21.1,!=4.21.2,!=4.21.3,!=4.21.4,!=4.21.5,<7.0.0,>=3.19.5 in c:\\users\\admins\\appdata\\local\\programs\\python\\python313\\lib\\site-packages (from google-api-core!=2.0.*,!=2.1.*,!=2.2.*,!=2.3.0,<3.0.0,>=1.31.5->google-api-python-client<3.0.0,>=2.157.0->google-adk) (6.33.0)\n",
      "Requirement already satisfied: proto-plus<2.0.0,>=1.22.3 in c:\\users\\admins\\appdata\\local\\programs\\python\\python313\\lib\\site-packages (from google-api-core!=2.0.*,!=2.1.*,!=2.2.*,!=2.3.0,<3.0.0,>=1.31.5->google-api-python-client<3.0.0,>=2.157.0->google-adk) (1.26.1)\n",
      "Requirement already satisfied: cachetools<7.0,>=2.0.0 in c:\\users\\admins\\appdata\\local\\programs\\python\\python313\\lib\\site-packages (from google-auth!=2.24.0,!=2.25.0,<3.0.0,>=1.32.0->google-api-python-client<3.0.0,>=2.157.0->google-adk) (6.2.1)\n",
      "Requirement already satisfied: pyasn1-modules>=0.2.1 in c:\\users\\admins\\appdata\\local\\programs\\python\\python313\\lib\\site-packages (from google-auth!=2.24.0,!=2.25.0,<3.0.0,>=1.32.0->google-api-python-client<3.0.0,>=2.157.0->google-adk) (0.4.2)\n",
      "Requirement already satisfied: rsa<5,>=3.1.4 in c:\\users\\admins\\appdata\\local\\programs\\python\\python313\\lib\\site-packages (from google-auth!=2.24.0,!=2.25.0,<3.0.0,>=1.32.0->google-api-python-client<3.0.0,>=2.157.0->google-adk) (4.9.1)\n",
      "Requirement already satisfied: packaging>=14.3 in c:\\users\\admins\\appdata\\roaming\\python\\python313\\site-packages (from google-cloud-aiplatform<2.0.0,>=1.112.0->google-cloud-aiplatform[agent-engines]<2.0.0,>=1.112.0->google-adk) (25.0)\n",
      "Requirement already satisfied: google-cloud-bigquery!=3.20.0,<4.0.0,>=1.15.0 in c:\\users\\admins\\appdata\\local\\programs\\python\\python313\\lib\\site-packages (from google-cloud-aiplatform<2.0.0,>=1.112.0->google-cloud-aiplatform[agent-engines]<2.0.0,>=1.112.0->google-adk) (3.38.0)\n",
      "Requirement already satisfied: google-cloud-resource-manager<3.0.0,>=1.3.3 in c:\\users\\admins\\appdata\\local\\programs\\python\\python313\\lib\\site-packages (from google-cloud-aiplatform<2.0.0,>=1.112.0->google-cloud-aiplatform[agent-engines]<2.0.0,>=1.112.0->google-adk) (1.15.0)\n",
      "Requirement already satisfied: shapely<3.0.0 in c:\\users\\admins\\appdata\\local\\programs\\python\\python313\\lib\\site-packages (from google-cloud-aiplatform<2.0.0,>=1.112.0->google-cloud-aiplatform[agent-engines]<2.0.0,>=1.112.0->google-adk) (2.1.2)\n",
      "Requirement already satisfied: docstring_parser<1 in c:\\users\\admins\\appdata\\local\\programs\\python\\python313\\lib\\site-packages (from google-cloud-aiplatform<2.0.0,>=1.112.0->google-cloud-aiplatform[agent-engines]<2.0.0,>=1.112.0->google-adk) (0.17.0)\n",
      "Requirement already satisfied: grpcio<2.0.0,>=1.33.2 in c:\\users\\admins\\appdata\\local\\programs\\python\\python313\\lib\\site-packages (from google-api-core[grpc]!=2.0.*,!=2.1.*,!=2.2.*,!=2.3.*,!=2.4.*,!=2.5.*,!=2.6.*,!=2.7.*,<3.0.0,>=1.34.1->google-cloud-aiplatform<2.0.0,>=1.112.0->google-cloud-aiplatform[agent-engines]<2.0.0,>=1.112.0->google-adk) (1.75.1)\n",
      "Requirement already satisfied: grpcio-status<2.0.0,>=1.33.2 in c:\\users\\admins\\appdata\\local\\programs\\python\\python313\\lib\\site-packages (from google-api-core[grpc]!=2.0.*,!=2.1.*,!=2.2.*,!=2.3.*,!=2.4.*,!=2.5.*,!=2.6.*,!=2.7.*,<3.0.0,>=1.34.1->google-cloud-aiplatform<2.0.0,>=1.112.0->google-cloud-aiplatform[agent-engines]<2.0.0,>=1.112.0->google-adk) (1.75.1)\n",
      "Requirement already satisfied: cloudpickle<4.0,>=3.0 in c:\\users\\admins\\appdata\\local\\programs\\python\\python313\\lib\\site-packages (from google-cloud-aiplatform[agent-engines]<2.0.0,>=1.112.0->google-adk) (3.1.1)\n",
      "Requirement already satisfied: google-cloud-trace<2 in c:\\users\\admins\\appdata\\local\\programs\\python\\python313\\lib\\site-packages (from google-cloud-aiplatform[agent-engines]<2.0.0,>=1.112.0->google-adk) (1.17.0)\n",
      "Requirement already satisfied: google-cloud-logging<4 in c:\\users\\admins\\appdata\\local\\programs\\python\\python313\\lib\\site-packages (from google-cloud-aiplatform[agent-engines]<2.0.0,>=1.112.0->google-adk) (3.12.1)\n",
      "Requirement already satisfied: google-cloud-core<3.0.0,>=2.4.1 in c:\\users\\admins\\appdata\\local\\programs\\python\\python313\\lib\\site-packages (from google-cloud-bigquery!=3.20.0,<4.0.0,>=1.15.0->google-cloud-aiplatform<2.0.0,>=1.112.0->google-cloud-aiplatform[agent-engines]<2.0.0,>=1.112.0->google-adk) (2.4.3)\n",
      "Requirement already satisfied: google-resumable-media<3.0.0,>=2.0.0 in c:\\users\\admins\\appdata\\local\\programs\\python\\python313\\lib\\site-packages (from google-cloud-bigquery!=3.20.0,<4.0.0,>=1.15.0->google-cloud-aiplatform<2.0.0,>=1.112.0->google-cloud-aiplatform[agent-engines]<2.0.0,>=1.112.0->google-adk) (2.7.2)\n",
      "Requirement already satisfied: google-cloud-appengine-logging<2.0.0,>=0.1.3 in c:\\users\\admins\\appdata\\local\\programs\\python\\python313\\lib\\site-packages (from google-cloud-logging<4->google-cloud-aiplatform[agent-engines]<2.0.0,>=1.112.0->google-adk) (1.7.0)\n",
      "Requirement already satisfied: google-cloud-audit-log<1.0.0,>=0.3.1 in c:\\users\\admins\\appdata\\local\\programs\\python\\python313\\lib\\site-packages (from google-cloud-logging<4->google-cloud-aiplatform[agent-engines]<2.0.0,>=1.112.0->google-adk) (0.4.0)\n",
      "Requirement already satisfied: grpc-google-iam-v1<1.0.0,>=0.12.4 in c:\\users\\admins\\appdata\\local\\programs\\python\\python313\\lib\\site-packages (from google-cloud-logging<4->google-cloud-aiplatform[agent-engines]<2.0.0,>=1.112.0->google-adk) (0.14.3)\n",
      "Requirement already satisfied: sqlparse>=0.4.4 in c:\\users\\admins\\appdata\\local\\programs\\python\\python313\\lib\\site-packages (from google-cloud-spanner<4.0.0,>=3.56.0->google-adk) (0.5.3)\n",
      "Requirement already satisfied: grpc-interceptor>=0.15.4 in c:\\users\\admins\\appdata\\local\\programs\\python\\python313\\lib\\site-packages (from google-cloud-spanner<4.0.0,>=3.56.0->google-adk) (0.15.4)\n",
      "Requirement already satisfied: google-crc32c<2.0dev,>=1.0 in c:\\users\\admins\\appdata\\local\\programs\\python\\python313\\lib\\site-packages (from google-cloud-storage<3.0.0,>=2.18.0->google-adk) (1.7.1)\n",
      "Requirement already satisfied: httpx<1.0.0,>=0.28.1 in c:\\users\\admins\\appdata\\local\\programs\\python\\python313\\lib\\site-packages (from google-genai<2.0.0,>=1.41.0->google-adk) (0.28.1)\n",
      "Requirement already satisfied: pyparsing<4,>=3.0.4 in c:\\users\\admins\\appdata\\local\\programs\\python\\python313\\lib\\site-packages (from httplib2<1.0.0,>=0.19.0->google-api-python-client<3.0.0,>=2.157.0->google-adk) (3.2.5)\n",
      "Requirement already satisfied: certifi in c:\\users\\admins\\appdata\\local\\programs\\python\\python313\\lib\\site-packages (from httpx<1.0.0,>=0.28.1->google-genai<2.0.0,>=1.41.0->google-adk) (2025.10.5)\n",
      "Requirement already satisfied: httpcore==1.* in c:\\users\\admins\\appdata\\local\\programs\\python\\python313\\lib\\site-packages (from httpx<1.0.0,>=0.28.1->google-genai<2.0.0,>=1.41.0->google-adk) (1.0.9)\n",
      "Requirement already satisfied: h11>=0.16 in c:\\users\\admins\\appdata\\local\\programs\\python\\python313\\lib\\site-packages (from httpcore==1.*->httpx<1.0.0,>=0.28.1->google-genai<2.0.0,>=1.41.0->google-adk) (0.16.0)\n",
      "Requirement already satisfied: httpx-sse>=0.4 in c:\\users\\admins\\appdata\\local\\programs\\python\\python313\\lib\\site-packages (from mcp<2.0.0,>=1.8.0->google-adk) (0.4.3)\n",
      "Requirement already satisfied: jsonschema>=4.20.0 in c:\\users\\admins\\appdata\\local\\programs\\python\\python313\\lib\\site-packages (from mcp<2.0.0,>=1.8.0->google-adk) (4.25.1)\n",
      "Requirement already satisfied: pydantic-settings>=2.5.2 in c:\\users\\admins\\appdata\\local\\programs\\python\\python313\\lib\\site-packages (from mcp<2.0.0,>=1.8.0->google-adk) (2.11.0)\n",
      "Requirement already satisfied: python-multipart>=0.0.9 in c:\\users\\admins\\appdata\\local\\programs\\python\\python313\\lib\\site-packages (from mcp<2.0.0,>=1.8.0->google-adk) (0.0.20)\n",
      "Requirement already satisfied: pywin32>=310 in c:\\users\\admins\\appdata\\local\\programs\\python\\python313\\lib\\site-packages (from mcp<2.0.0,>=1.8.0->google-adk) (311)\n",
      "Requirement already satisfied: sse-starlette>=1.6.1 in c:\\users\\admins\\appdata\\local\\programs\\python\\python313\\lib\\site-packages (from mcp<2.0.0,>=1.8.0->google-adk) (3.0.2)\n",
      "Requirement already satisfied: importlib-metadata<8.8.0,>=6.0 in c:\\users\\admins\\appdata\\local\\programs\\python\\python313\\lib\\site-packages (from opentelemetry-api<=1.37.0,>=1.37.0->google-adk) (8.7.0)\n",
      "Requirement already satisfied: zipp>=3.20 in c:\\users\\admins\\appdata\\local\\programs\\python\\python313\\lib\\site-packages (from importlib-metadata<8.8.0,>=6.0->opentelemetry-api<=1.37.0,>=1.37.0->google-adk) (3.23.0)\n",
      "Requirement already satisfied: google-cloud-monitoring~=2.0 in c:\\users\\admins\\appdata\\local\\programs\\python\\python313\\lib\\site-packages (from opentelemetry-exporter-gcp-monitoring<2.0.0,>=1.9.0a0->google-adk) (2.28.0)\n",
      "Requirement already satisfied: opentelemetry-semantic-conventions==0.58b0 in c:\\users\\admins\\appdata\\local\\programs\\python\\python313\\lib\\site-packages (from opentelemetry-sdk<=1.37.0,>=1.37.0->google-adk) (0.58b0)\n",
      "Requirement already satisfied: annotated-types>=0.6.0 in c:\\users\\admins\\appdata\\local\\programs\\python\\python313\\lib\\site-packages (from pydantic<3.0.0,>=2.0->google-adk) (0.7.0)\n",
      "Requirement already satisfied: pydantic-core==2.41.4 in c:\\users\\admins\\appdata\\local\\programs\\python\\python313\\lib\\site-packages (from pydantic<3.0.0,>=2.0->google-adk) (2.41.4)\n",
      "Requirement already satisfied: typing-inspection>=0.4.2 in c:\\users\\admins\\appdata\\local\\programs\\python\\python313\\lib\\site-packages (from pydantic<3.0.0,>=2.0->google-adk) (0.4.2)\n",
      "Requirement already satisfied: six>=1.5 in c:\\users\\admins\\appdata\\roaming\\python\\python313\\site-packages (from python-dateutil<3.0.0,>=2.9.0.post0->google-adk) (1.17.0)\n",
      "Requirement already satisfied: charset_normalizer<4,>=2 in c:\\users\\admins\\appdata\\local\\programs\\python\\python313\\lib\\site-packages (from requests<3.0.0,>=2.32.4->google-adk) (3.4.4)\n",
      "Requirement already satisfied: urllib3<3,>=1.21.1 in c:\\users\\admins\\appdata\\local\\programs\\python\\python313\\lib\\site-packages (from requests<3.0.0,>=2.32.4->google-adk) (2.5.0)\n",
      "Requirement already satisfied: pyasn1>=0.1.3 in c:\\users\\admins\\appdata\\local\\programs\\python\\python313\\lib\\site-packages (from rsa<5,>=3.1.4->google-auth!=2.24.0,!=2.25.0,<3.0.0,>=1.32.0->google-api-python-client<3.0.0,>=2.157.0->google-adk) (0.6.1)\n",
      "Requirement already satisfied: numpy>=1.21 in c:\\users\\admins\\appdata\\local\\programs\\python\\python313\\lib\\site-packages (from shapely<3.0.0->google-cloud-aiplatform<2.0.0,>=1.112.0->google-cloud-aiplatform[agent-engines]<2.0.0,>=1.112.0->google-adk) (2.3.4)\n",
      "Requirement already satisfied: greenlet>=1 in c:\\users\\admins\\appdata\\local\\programs\\python\\python313\\lib\\site-packages (from sqlalchemy<3.0.0,>=2.0->google-adk) (3.2.4)\n",
      "Requirement already satisfied: tzdata in c:\\users\\admins\\appdata\\local\\programs\\python\\python313\\lib\\site-packages (from tzlocal<6.0,>=5.3->google-adk) (2025.2)\n",
      "Requirement already satisfied: attrs>=22.2.0 in c:\\users\\admins\\appdata\\local\\programs\\python\\python313\\lib\\site-packages (from jsonschema>=4.20.0->mcp<2.0.0,>=1.8.0->google-adk) (25.4.0)\n",
      "Requirement already satisfied: jsonschema-specifications>=2023.03.6 in c:\\users\\admins\\appdata\\local\\programs\\python\\python313\\lib\\site-packages (from jsonschema>=4.20.0->mcp<2.0.0,>=1.8.0->google-adk) (2025.9.1)\n",
      "Requirement already satisfied: referencing>=0.28.4 in c:\\users\\admins\\appdata\\local\\programs\\python\\python313\\lib\\site-packages (from jsonschema>=4.20.0->mcp<2.0.0,>=1.8.0->google-adk) (0.37.0)\n",
      "Requirement already satisfied: rpds-py>=0.7.1 in c:\\users\\admins\\appdata\\local\\programs\\python\\python313\\lib\\site-packages (from jsonschema>=4.20.0->mcp<2.0.0,>=1.8.0->google-adk) (0.27.1)\n",
      "Requirement already satisfied: opentelemetry-exporter-otlp-proto-common==1.37.0 in c:\\users\\admins\\appdata\\local\\programs\\python\\python313\\lib\\site-packages (from opentelemetry-exporter-otlp-proto-http>=1.36.0->google-adk) (1.37.0)\n",
      "Requirement already satisfied: opentelemetry-proto==1.37.0 in c:\\users\\admins\\appdata\\local\\programs\\python\\python313\\lib\\site-packages (from opentelemetry-exporter-otlp-proto-http>=1.36.0->google-adk) (1.37.0)\n",
      "Requirement already satisfied: alembic in c:\\users\\admins\\appdata\\local\\programs\\python\\python313\\lib\\site-packages (from sqlalchemy-spanner>=1.14.0->google-adk) (1.17.0)\n",
      "Requirement already satisfied: Mako in c:\\users\\admins\\appdata\\local\\programs\\python\\python313\\lib\\site-packages (from alembic->sqlalchemy-spanner>=1.14.0->google-adk) (1.3.10)\n",
      "Requirement already satisfied: cffi>=2.0.0 in c:\\users\\admins\\appdata\\local\\programs\\python\\python313\\lib\\site-packages (from cryptography->authlib<2.0.0,>=1.5.1->google-adk) (2.0.0)\n",
      "Requirement already satisfied: pycparser in c:\\users\\admins\\appdata\\local\\programs\\python\\python313\\lib\\site-packages (from cffi>=2.0.0->cryptography->authlib<2.0.0,>=1.5.1->google-adk) (2.23)\n",
      "Requirement already satisfied: MarkupSafe>=0.9.2 in c:\\users\\admins\\appdata\\local\\programs\\python\\python313\\lib\\site-packages (from Mako->alembic->sqlalchemy-spanner>=1.14.0->google-adk) (3.0.3)\n",
      "Note: you may need to restart the kernel to use updated packages.\n"
     ]
    }
   ],
   "source": [
    "%pip install google-adk"
   ]
  },
  {
   "cell_type": "code",
   "execution_count": 2,
   "id": "cbb09706",
   "metadata": {},
   "outputs": [
    {
     "name": "stdout",
     "output_type": "stream",
     "text": [
      "Requirement already satisfied: pywin32 in c:\\users\\admins\\appdata\\local\\programs\\python\\python313\\lib\\site-packages (311)\n",
      "Note: you may need to restart the kernel to use updated packages.\n"
     ]
    }
   ],
   "source": [
    "%pip install pywin32\n"
   ]
  },
  {
   "cell_type": "code",
   "execution_count": 3,
   "id": "91573150",
   "metadata": {},
   "outputs": [
    {
     "name": "stdout",
     "output_type": "stream",
     "text": [
      "pywin32 is working ✅\n"
     ]
    }
   ],
   "source": [
    "import pywintypes, win32api\n",
    "print(\"pywin32 is working ✅\")"
   ]
  },
  {
   "cell_type": "code",
   "execution_count": 4,
   "id": "5f328da8",
   "metadata": {},
   "outputs": [],
   "source": [
    "from google.adk.agents import Agent\n",
    "from google.adk.tools import google_search\n",
    "\n",
    "root_agent = Agent(\n",
    "    name=\"search_assistant\",\n",
    "    model=\"gemini-2.5-flash\", # Or your preferred Gemini model\n",
    "    instruction=\"You are a helpful assistant. Answer user questions using Google Search when needed.\",\n",
    "    description=\"An assistant that can search the web.\",\n",
    "    tools=[google_search]\n",
    ")"
   ]
  },
  {
   "cell_type": "code",
   "execution_count": null,
   "id": "0f5faaa5",
   "metadata": {},
   "outputs": [],
   "source": []
  }
 ],
 "metadata": {
  "kernelspec": {
   "display_name": "Python 3",
   "language": "python",
   "name": "python3"
  },
  "language_info": {
   "codemirror_mode": {
    "name": "ipython",
    "version": 3
   },
   "file_extension": ".py",
   "mimetype": "text/x-python",
   "name": "python",
   "nbconvert_exporter": "python",
   "pygments_lexer": "ipython3",
   "version": "3.13.9"
  }
 },
 "nbformat": 4,
 "nbformat_minor": 5
}
